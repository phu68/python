{
 "cells": [
  {
   "cell_type": "markdown",
   "id": "e85695f2",
   "metadata": {},
   "source": [
    "# KIỂU DANH SÁCH"
   ]
  },
  {
   "cell_type": "markdown",
   "id": "e4e7aed9",
   "metadata": {},
   "source": [
    "Kiểu danh sách\n",
    "Trong kiểu danh sách có thể chứa cả danh sách, nhiều cấp"
   ]
  },
  {
   "cell_type": "code",
   "execution_count": 11,
   "id": "bb0272ba",
   "metadata": {
    "scrolled": true
   },
   "outputs": [
    {
     "name": "stdout",
     "output_type": "stream",
     "text": [
      "a120\n"
     ]
    }
   ],
   "source": [
    "myList = ['a','b','1','2','3',['11','12','13',['110','120','130',['a110','a120','a130']]],'c']\n",
    "print(myList[5][3][3][1])"
   ]
  },
  {
   "cell_type": "code",
   "execution_count": 20,
   "id": "05d85629",
   "metadata": {},
   "outputs": [
    {
     "name": "stdout",
     "output_type": "stream",
     "text": [
      "['11', '12', '13', ['110', '120', '130', ['a110', 'a120', 'a130']]]\n"
     ]
    }
   ],
   "source": [
    "myList = ['a','b','1','2','3',['11','12','13',['110','120','130',['a110','a120','a130']]],'c']\n",
    "print(myList[-2])"
   ]
  },
  {
   "cell_type": "markdown",
   "id": "1c670ce7",
   "metadata": {},
   "source": [
    "Kiểm tra sự tồn tại"
   ]
  },
  {
   "cell_type": "code",
   "execution_count": 16,
   "id": "1f9c733b",
   "metadata": {},
   "outputs": [
    {
     "name": "stdout",
     "output_type": "stream",
     "text": [
      "True\n",
      "True\n"
     ]
    }
   ],
   "source": [
    "myList = ['a','b','1','2','3',['11','12','13',['110','120','130',['a110','a120','a130']]],'c']\n",
    "print('a' in myList)\n",
    "print('d' not in myList)"
   ]
  },
  {
   "cell_type": "markdown",
   "id": "5bacb454",
   "metadata": {},
   "source": [
    "Đo chiều dài list"
   ]
  },
  {
   "cell_type": "code",
   "execution_count": 17,
   "id": "320f8777",
   "metadata": {},
   "outputs": [
    {
     "name": "stdout",
     "output_type": "stream",
     "text": [
      "7\n"
     ]
    }
   ],
   "source": [
    "myList = ['a','b','1','2','3',['11','12','13',['110','120','130',['a110','a120','a130']]],'c']\n",
    "print(len(myList))"
   ]
  },
  {
   "cell_type": "markdown",
   "id": "22b55618",
   "metadata": {},
   "source": [
    "Trích xuất nội dung chuổi"
   ]
  },
  {
   "cell_type": "code",
   "execution_count": 26,
   "id": "fb13acc0",
   "metadata": {},
   "outputs": [
    {
     "name": "stdout",
     "output_type": "stream",
     "text": [
      "['a', 'b', '1', '2', '3', ['11', '12', '13', ['110', '120', '130', ['a110', 'a120', 'a130']]], 'c']\n",
      "['b', '1', '2', '3', ['11', '12', '13', ['110', '120', '130', ['a110', 'a120', 'a130']]], 'c']\n",
      "['c']\n",
      "['a', 'b', '1']\n",
      "['13', ['110', '120', '130', ['a110', 'a120', 'a130']]]\n",
      "['11', '12']\n"
     ]
    }
   ],
   "source": [
    "myList = ['a','b','1','2','3',['11','12','13',['110','120','130',['a110','a120','a130']]],'c']\n",
    "print(myList[0:])\n",
    "print(myList[1:])\n",
    "print(myList[-1:])\n",
    "print(myList[:3])\n",
    "print(myList[5][2:])\n",
    "print(myList[5][:2])"
   ]
  },
  {
   "cell_type": "markdown",
   "id": "8d017a7b",
   "metadata": {},
   "source": [
    "Cập nhật phần tử bằng lệnh gán đè"
   ]
  },
  {
   "cell_type": "code",
   "execution_count": 32,
   "id": "e04b89d7",
   "metadata": {},
   "outputs": [
    {
     "name": "stdout",
     "output_type": "stream",
     "text": [
      "['a', 'b', '10', 'd', 'a']\n"
     ]
    }
   ],
   "source": [
    "myList = ['a','b','c','d','a','d','b','f','g','h']\n",
    "myList = listB = ['a','b','c','d','a']\n",
    "myList[2] = '10'\n",
    "print(myList)\n"
   ]
  },
  {
   "cell_type": "markdown",
   "id": "80d52351",
   "metadata": {},
   "source": [
    "Xoá phần tử list"
   ]
  },
  {
   "cell_type": "code",
   "execution_count": 37,
   "id": "0b7342e8",
   "metadata": {},
   "outputs": [
    {
     "name": "stdout",
     "output_type": "stream",
     "text": [
      "['a', 'c', 'd', 'a', 'd', 'b', 'f', 'g', 'h']\n"
     ]
    }
   ],
   "source": [
    "myList = ['a','b','c','d','a','d','b','f','g','h']\n",
    "del myList[1:2]\n",
    "print(myList)"
   ]
  },
  {
   "cell_type": "markdown",
   "id": "805f3cc0",
   "metadata": {},
   "source": [
    "Mở rộng chuỗi, dùng append để thêm 1 phần tử phía sau, dùng extend nếu thêm 1 chuỗ mới phía sau (nối chuỗi)"
   ]
  },
  {
   "cell_type": "code",
   "execution_count": 46,
   "id": "78fe18d7",
   "metadata": {},
   "outputs": [
    {
     "name": "stdout",
     "output_type": "stream",
     "text": [
      "['a', 'b', 'c', 'd', 'e', 'phu', 'mkt', 'digital']\n",
      "['a', 'b', 'c', 'd', 'e', 'phu', 'mkt', 'digital', '1', '2', '3']\n"
     ]
    }
   ],
   "source": [
    "myList = ['a','b','c','d','e']\n",
    "myList1 = ['1','2','3']\n",
    "myList.append('phu')\n",
    "myList.extend(['mkt','digital'])\n",
    "print(myList)\n",
    "myList.extend(myList1)\n",
    "print(myList)\n"
   ]
  },
  {
   "cell_type": "markdown",
   "id": "fa1d5992",
   "metadata": {},
   "source": [
    "Tách một phần tử từ chuỗi dùng thuộc tính pop"
   ]
  },
  {
   "cell_type": "code",
   "execution_count": 49,
   "id": "a2990086",
   "metadata": {},
   "outputs": [
    {
     "name": "stdout",
     "output_type": "stream",
     "text": [
      "c\n",
      "['a', 'b', 'd', 'e']\n"
     ]
    }
   ],
   "source": [
    "myList = ['a','b','c','d','e']\n",
    "item = myList.pop(2)\n",
    "\n",
    "print(item)\n",
    "print(myList)"
   ]
  },
  {
   "cell_type": "code",
   "execution_count": 62,
   "id": "2068c1d1",
   "metadata": {},
   "outputs": [
    {
     "name": "stdout",
     "output_type": "stream",
     "text": [
      "#Hàm reverse để đảo danh sách\n",
      "[10, 9, 5, 8, 6, 2, 3, 4, 1]\n",
      "['8', '9', '5', '6', '4', '2', '3', '1']\n",
      "#Hàm sort để sắp xếp các phần tử\n",
      "['1', '2', '3', '4', '5', '6', '8', '9']\n",
      "#Hàm count để đếm số phần tử\n",
      "1\n",
      "#Hàm clear để xoá các phần tử trong danh sách\n",
      "[]\n"
     ]
    }
   ],
   "source": [
    "myList = [1,4,3,2,6,8,5,9,10]\n",
    "myList1 = ['1','3','2','4','6','5','9','8']\n",
    "\n",
    "print('#Hàm reverse để đảo danh sách')\n",
    "myList.reverse()\n",
    "print(myList)\n",
    "\n",
    "myList1.reverse()\n",
    "print(myList1)\n",
    "\n",
    "\n",
    "print('#Hàm sort để sắp xếp các phần tử')\n",
    "myList1.sort()\n",
    "print(myList1)\n",
    "\n",
    "print('#Hàm count để đếm số phần tử')\n",
    "print(myList1.count('4'))\n",
    "\n",
    "print('#Hàm clear để xoá các phần tử trong danh sách')\n",
    "myList.clear()\n",
    "print(myList)"
   ]
  },
  {
   "cell_type": "code",
   "execution_count": null,
   "id": "3f856487",
   "metadata": {},
   "outputs": [],
   "source": []
  }
 ],
 "metadata": {
  "kernelspec": {
   "display_name": "Python 3 (ipykernel)",
   "language": "python",
   "name": "python3"
  },
  "language_info": {
   "codemirror_mode": {
    "name": "ipython",
    "version": 3
   },
   "file_extension": ".py",
   "mimetype": "text/x-python",
   "name": "python",
   "nbconvert_exporter": "python",
   "pygments_lexer": "ipython3",
   "version": "3.9.6"
  }
 },
 "nbformat": 4,
 "nbformat_minor": 5
}
