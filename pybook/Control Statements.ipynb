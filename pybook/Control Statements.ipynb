{
 "cells": [
  {
   "cell_type": "markdown",
   "id": "7c40f496",
   "metadata": {},
   "source": [
    "#Câu lệnh điều kiện"
   ]
  },
  {
   "cell_type": "code",
   "execution_count": 4,
   "id": "f8153300",
   "metadata": {},
   "outputs": [
    {
     "name": "stdout",
     "output_type": "stream",
     "text": [
      "Nhap mot so thuc: 0\n",
      "Day la Zero\n"
     ]
    }
   ],
   "source": [
    "num = float(input(\"Nhap mot so thuc: \"))\n",
    "\n",
    "if num >= 0:\n",
    "    if num == 0:\n",
    "        print(\"Day la Zero\")\n",
    "    else:\n",
    "        print(\"Day la so duong\")\n",
    "else:\n",
    "    print('Day la so am')"
   ]
  },
  {
   "cell_type": "markdown",
   "id": "e40551c5",
   "metadata": {},
   "source": [
    "Vòng lặp trong python"
   ]
  },
  {
   "cell_type": "code",
   "execution_count": 7,
   "id": "3856ae80",
   "metadata": {},
   "outputs": [
    {
     "name": "stdout",
     "output_type": "stream",
     "text": [
      "The sum is 52\n"
     ]
    }
   ],
   "source": [
    "# chuoi so\n",
    "number = [4,5,6,4,3,6,7,8,9]\n",
    "sum = 0\n",
    "\n",
    "for var in number:\n",
    "    sum +=var\n",
    "    \n",
    "print(\"The sum is\", sum)"
   ]
  },
  {
   "cell_type": "markdown",
   "id": "d22f285e",
   "metadata": {},
   "source": [
    "Xin ra một list số từ 0 -> 20 theo khoảng cách là 2, mặc định là 1"
   ]
  },
  {
   "cell_type": "code",
   "execution_count": 15,
   "id": "5b73fb46",
   "metadata": {},
   "outputs": [
    {
     "name": "stdout",
     "output_type": "stream",
     "text": [
      "[0, 2, 4, 6, 8, 10, 12, 14, 16, 18]\n"
     ]
    }
   ],
   "source": [
    "print(list(range(0, 20, 2)))"
   ]
  },
  {
   "cell_type": "code",
   "execution_count": 22,
   "id": "b5bc9888",
   "metadata": {},
   "outputs": [
    {
     "name": "stdout",
     "output_type": "stream",
     "text": [
      "Toi thich Xoai\n",
      "Toi thich Nho\n",
      "Toi thich Mit\n"
     ]
    }
   ],
   "source": [
    "listTraicay = ['Xoai','Nho','Mit']\n",
    "for i in range(len(listTraicay)): #tao mot list số từ 0 -> chiều dài listTraicay\n",
    "    print(\"Toi thich \" + listTraicay[i])"
   ]
  },
  {
   "cell_type": "markdown",
   "id": "dba719cc",
   "metadata": {},
   "source": [
    "Câu lệnh for else"
   ]
  },
  {
   "cell_type": "code",
   "execution_count": 26,
   "id": "19ece5b0",
   "metadata": {},
   "outputs": [
    {
     "name": "stdout",
     "output_type": "stream",
     "text": [
      "10\n"
     ]
    }
   ],
   "source": [
    "hocsinh = \"phu\"\n",
    "kqhocsinh = {\"phu\":10, \"ngoc\":19, \"an\":30, \"nam\":25}\n",
    "\n",
    "for hs in kqhocsinh:\n",
    "    if hs == hocsinh:\n",
    "        print(kqhocsinh[hs])\n",
    "        break\n",
    "else:\n",
    "    print(\"khong tim thay hoc sinh\")"
   ]
  },
  {
   "cell_type": "markdown",
   "id": "099ca4ec",
   "metadata": {},
   "source": [
    "Tính tổng 1 đến 100 bằng lệnh while"
   ]
  },
  {
   "cell_type": "code",
   "execution_count": 32,
   "id": "7a6310d7",
   "metadata": {},
   "outputs": [
    {
     "name": "stdout",
     "output_type": "stream",
     "text": [
      "5050\n"
     ]
    }
   ],
   "source": [
    "sum = 0\n",
    "i = 0\n",
    "\n",
    "while i<=100:\n",
    "    sum +=i\n",
    "    i+=1\n",
    "print(sum)"
   ]
  },
  {
   "cell_type": "markdown",
   "id": "be79a133",
   "metadata": {},
   "source": [
    "lệnh break để thoát khỏi vòng lặp"
   ]
  },
  {
   "cell_type": "code",
   "execution_count": 35,
   "id": "85da5ee7",
   "metadata": {},
   "outputs": [
    {
     "name": "stdout",
     "output_type": "stream",
     "text": [
      "c\n",
      "h\n",
      "u\n",
      "o\n",
      "The end\n"
     ]
    }
   ],
   "source": [
    "# Use of break statement inside the loop\n",
    "\n",
    "for val in \"chuoi\":\n",
    "    if val == \"i\":\n",
    "        break\n",
    "    print(val)\n",
    "\n",
    "print(\"The end\")"
   ]
  },
  {
   "cell_type": "markdown",
   "id": "236859d0",
   "metadata": {},
   "source": [
    "bỏ qua với lệnh continue"
   ]
  },
  {
   "cell_type": "code",
   "execution_count": 37,
   "id": "6c379fe2",
   "metadata": {},
   "outputs": [
    {
     "name": "stdout",
     "output_type": "stream",
     "text": [
      "c\n",
      "h\n",
      "u\n",
      "i\n",
      "The end\n"
     ]
    }
   ],
   "source": [
    "# Use of break statement inside the loop\n",
    "\n",
    "for val in \"chuoi\":\n",
    "    if val == \"o\":\n",
    "        continue\n",
    "    print(val)\n",
    "\n",
    "print(\"The end\")"
   ]
  },
  {
   "cell_type": "code",
   "execution_count": 38,
   "id": "88969572",
   "metadata": {},
   "outputs": [],
   "source": [
    "'''pass is just a placeholder for\n",
    "functionality to be added later.'''\n",
    "sequence = {'p', 'a', 's', 's'}\n",
    "for val in sequence:\n",
    "    pass"
   ]
  },
  {
   "cell_type": "code",
   "execution_count": null,
   "id": "ac7899f0",
   "metadata": {},
   "outputs": [],
   "source": []
  }
 ],
 "metadata": {
  "kernelspec": {
   "display_name": "Python 3 (ipykernel)",
   "language": "python",
   "name": "python3"
  },
  "language_info": {
   "codemirror_mode": {
    "name": "ipython",
    "version": 3
   },
   "file_extension": ".py",
   "mimetype": "text/x-python",
   "name": "python",
   "nbconvert_exporter": "python",
   "pygments_lexer": "ipython3",
   "version": "3.9.6"
  }
 },
 "nbformat": 4,
 "nbformat_minor": 5
}
