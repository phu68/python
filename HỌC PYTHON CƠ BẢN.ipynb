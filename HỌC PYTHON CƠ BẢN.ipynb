{
 "cells": [
  {
   "cell_type": "markdown",
   "id": "30508a7a",
   "metadata": {},
   "source": [
    "# ĐÂY LÀ KHOÁ HỌC PYTHON CƠ BẢN"
   ]
  },
  {
   "cell_type": "markdown",
   "id": "76d1b48a",
   "metadata": {},
   "source": [
    "## PHẦN 1 CÂU LỆNH CƠ BẢN"
   ]
  },
  {
   "cell_type": "markdown",
   "id": "8e0c4945",
   "metadata": {},
   "source": [
    "Lệnh in một nội dung ra màn hình kèm theo biến"
   ]
  },
  {
   "cell_type": "code",
   "execution_count": 9,
   "id": "60ca41a8",
   "metadata": {},
   "outputs": [
    {
     "name": "stdout",
     "output_type": "stream",
     "text": [
      "Nhap ho va ten: phu\n",
      "Nhap tuoi: 27\n",
      "xin chao ban phu 27 tuoi\n"
     ]
    }
   ],
   "source": [
    "hoten = input(\"Nhap ho va ten: \")\n",
    "tuoi = input(\"Nhap tuoi: \")\n",
    "print(\"xin chao ban \" + hoten + \" \" + str(tuoi) + \" tuoi\")"
   ]
  },
  {
   "cell_type": "code",
   "execution_count": null,
   "id": "dd195a70",
   "metadata": {},
   "outputs": [],
   "source": []
  }
 ],
 "metadata": {
  "kernelspec": {
   "display_name": "Python 3 (ipykernel)",
   "language": "python",
   "name": "python3"
  },
  "language_info": {
   "codemirror_mode": {
    "name": "ipython",
    "version": 3
   },
   "file_extension": ".py",
   "mimetype": "text/x-python",
   "name": "python",
   "nbconvert_exporter": "python",
   "pygments_lexer": "ipython3",
   "version": "3.9.6"
  }
 },
 "nbformat": 4,
 "nbformat_minor": 5
}
